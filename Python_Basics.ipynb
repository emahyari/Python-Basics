{
 "cells": [
  {
   "cell_type": "markdown",
   "id": "5e73fbeb",
   "metadata": {},
   "source": [
    "# Introduction to Python\n",
    "\n",
    "Welcome! This notebook will help you start learning Python, especially a great start point for tasks related to data analytics. You will use Jupyter notebooks, a powerful tool that lets you write and run Python code interactively.\n",
    "\n",
    "Python is a high-level, versatile programming language that is easy to read and write. It's widely used in data science, machine learning, web development, and many other fields.\n"
   ]
  },
  {
   "cell_type": "markdown",
   "id": "9ae31f31",
   "metadata": {},
   "source": [
    "## Software Requirements\n",
    "\n",
    "To begin, make sure you have installed Python 3, which is the version of Python we'll be using. You'll also need Jupyter, a tool that lets you write Python code in a file called a 'notebook'. These notebooks make it easy to run code and see the results right away."
   ]
  },
  {
   "cell_type": "markdown",
   "id": "98c4959b",
   "metadata": {},
   "source": [
    "To run the exercises in this notebook, you need:\n",
    "\n",
    "1. Python 3 installed on your computer.\n",
    "2. Access to Jupyter Notebooks, where you can write and run your Python code.\n",
    "\n",
    "You can install Python and Jupyter easily using the [Anaconda distribution](https://anaconda.com), which comes with both tools ready to use."
   ]
  },
  {
   "cell_type": "markdown",
   "id": "a9c0b1e2",
   "metadata": {},
   "source": [
    "You can download and install  `Python3`   by following the instructions available at [anaconda.com](http://anaconda.com). "
   ]
  },
  {
   "cell_type": "markdown",
   "id": "e19ec913",
   "metadata": {},
   "source": [
    "Here are some ways to access Jupyter:\n",
    "\n",
    "- Use [Google Colaboratory](https://colab.research.google.com/), a free online service that runs Python code in your web browser.\n",
    "- Install Jupyter on your computer by following the instructions at [jupyter.org](https://jupyter.org/install).\n",
    "- Use [JupyterHub](https://jupyter.org/hub) for collaborative work."
   ]
  },
  {
   "cell_type": "markdown",
   "id": "9906b040",
   "metadata": {},
   "source": [
    "## Basic Commands"
   ]
  },
  {
   "cell_type": "markdown",
   "id": "2ad3c8c1",
   "metadata": {},
   "source": [
    " In this lab, we will explore some basic Python commands to help you get started with programming. If you're new to Python and want to dive deeper, you can check out the official Python tutorial at [docs.python.org/3/tutorial/](https://docs.python.org/3/tutorial/), which provides a comprehensive guide for beginners.\n",
    "\n",
    " \n"
   ]
  },
  {
   "cell_type": "markdown",
   "id": "51498448-729d-44ab-a813-fe8831123a4f",
   "metadata": {},
   "source": [
    "## Variables and Data Types\n",
    "\n",
    "Python supports several data types including integers, floats, strings, and booleans.\n",
    "\n",
    "```python"
   ]
  },
  {
   "cell_type": "markdown",
   "id": "4566e64f-9ad7-4c98-a6f9-cd9e05cb7640",
   "metadata": {},
   "source": [
    "Example of variables and data types:"
   ]
  },
  {
   "cell_type": "code",
   "execution_count": null,
   "id": "f11f08fb-b07c-45cd-aee2-bb00ec32f73d",
   "metadata": {},
   "outputs": [],
   "source": []
  },
  {
   "cell_type": "markdown",
   "id": "5794daa5-e43d-48f0-9d9f-2713d43d41ef",
   "metadata": {},
   "source": [
    "## Basic Arithmetic Operations\n",
    "\n",
    "You can use Python just like a calculator to perform basic arithmetic."
   ]
  },
  {
   "cell_type": "code",
   "execution_count": null,
   "id": "a7dd5b2a-12a8-42e9-ac15-23cc70681a66",
   "metadata": {},
   "outputs": [],
   "source": []
  },
  {
   "cell_type": "code",
   "execution_count": null,
   "id": "42490cda-b6f3-4ffe-a259-dc3250e6418b",
   "metadata": {},
   "outputs": [],
   "source": []
  },
  {
   "cell_type": "markdown",
   "id": "7b778c45-b2a2-4769-bcb2-f2fbc49c2e41",
   "metadata": {},
   "source": [
    "## Functions in Python\n",
    "\n",
    "A function is a block of code that performs a specific task. You can create your own functions using the `def` keyword."
   ]
  },
  {
   "cell_type": "markdown",
   "id": "ecf28917-84d5-4c94-82ca-e58c582c5493",
   "metadata": {},
   "source": [
    "### Example\n",
    "- `def greet(name):` defines a function named greet that takes one argument name.\n",
    "- The function returns a greeting string using the argument.\n",
    "- e.g., we call the function with the argument \"World\"."
   ]
  },
  {
   "cell_type": "code",
   "execution_count": null,
   "id": "82d0c002-0eb7-46f3-913f-ad0b4a0db3cb",
   "metadata": {},
   "outputs": [],
   "source": []
  },
  {
   "cell_type": "markdown",
   "id": "7e50f07c-e2a2-4ff3-a734-36afd334201c",
   "metadata": {},
   "source": [
    "## Lists\n",
    "\n",
    "*Lists* in Python are used to store multiple items in a single variable."
   ]
  },
  {
   "cell_type": "code",
   "execution_count": null,
   "id": "fadac61e-3aa9-4afc-a5c1-9f2e2fe171b7",
   "metadata": {},
   "outputs": [],
   "source": []
  },
  {
   "cell_type": "markdown",
   "id": "bb2eab3c-4093-47a8-a757-1a1a3c5e9170",
   "metadata": {},
   "source": [
    "### List length\n",
    "The length of a list, which is the number of elements composing the list, is caught by function `len()`, e.g., `len(my_list)`."
   ]
  },
  {
   "cell_type": "code",
   "execution_count": null,
   "id": "96cf6ed3-f977-434f-808d-c0a041f0c14f",
   "metadata": {},
   "outputs": [],
   "source": []
  },
  {
   "cell_type": "markdown",
   "id": "0dc110c2-ffd1-44f2-a8eb-55f56ad803a9",
   "metadata": {},
   "source": [
    "### Accessing elements of a list\n",
    "### First element"
   ]
  },
  {
   "cell_type": "markdown",
   "id": "6f22b364-fa53-40c7-8d95-f729fcd9c466",
   "metadata": {},
   "source": [
    "#### Note:\n",
    "Python is a zero-based indexing language, i.e., it starts off indexing using 0. Therefore, the first element of a list can be called using index 0."
   ]
  },
  {
   "cell_type": "code",
   "execution_count": null,
   "id": "a334a22a-91d9-4f09-a2e8-d60af5e25a11",
   "metadata": {},
   "outputs": [],
   "source": []
  },
  {
   "cell_type": "markdown",
   "id": "200b4aa7-4c90-4730-ae5a-aed3df9c4a56",
   "metadata": {},
   "source": [
    "#### Last element"
   ]
  },
  {
   "cell_type": "markdown",
   "id": "b4714a82-49f5-4fc2-91d0-255779001536",
   "metadata": {},
   "source": [
    "As Python starts indexing elements from 0, the 2nd element index is 1, the 3rd index 2, and similarly the last element index is `len(my_list) - 1`."
   ]
  },
  {
   "cell_type": "code",
   "execution_count": null,
   "id": "21b55483-84a2-47b9-b771-e4b80ba6d250",
   "metadata": {},
   "outputs": [],
   "source": []
  },
  {
   "cell_type": "code",
   "execution_count": null,
   "id": "31d872f1-c9d8-43bb-9d07-a48fbd30daf7",
   "metadata": {},
   "outputs": [],
   "source": []
  },
  {
   "cell_type": "markdown",
   "id": "4ceafa40-07aa-48be-b0f5-370a3abedce7",
   "metadata": {},
   "source": [
    "Python recognizes index `-1` as the last element in a list. e.g., `my_list[-1]` returns the last element in a list."
   ]
  },
  {
   "cell_type": "code",
   "execution_count": null,
   "id": "d8e84592-ffa5-48d0-bd7a-f20e752f59ab",
   "metadata": {},
   "outputs": [],
   "source": []
  },
  {
   "cell_type": "markdown",
   "id": "cd271932-dbc4-48f0-b3d5-6adaeb8add5c",
   "metadata": {},
   "source": [
    "### Adding elements to a list"
   ]
  },
  {
   "cell_type": "markdown",
   "id": "d3e88e5b-3ec7-40fe-8629-5efad1255e41",
   "metadata": {},
   "source": [
    "`append()` is the function (aka method) to add elements into a list."
   ]
  },
  {
   "cell_type": "code",
   "execution_count": null,
   "id": "54206702-d91c-4908-83fc-ad1fe9c5eb21",
   "metadata": {},
   "outputs": [],
   "source": []
  },
  {
   "cell_type": "markdown",
   "id": "af16c8c0-5cfe-458c-9b06-33144e5e7287",
   "metadata": {},
   "source": [
    "### Removing elements from a list"
   ]
  },
  {
   "cell_type": "markdown",
   "id": "d4ffbd6d-54ca-4b97-9046-94e03e90d467",
   "metadata": {},
   "source": [
    "`remove()` is the function (aka method) that removes elements from a list."
   ]
  },
  {
   "cell_type": "code",
   "execution_count": null,
   "id": "4a15b6b5-5ce9-4c92-9d5e-28a5c78d0e4d",
   "metadata": {},
   "outputs": [],
   "source": []
  },
  {
   "cell_type": "markdown",
   "id": "deeaee32-f0be-47fc-bd6e-61004b83c730",
   "metadata": {},
   "source": [
    "### Slicing a List:\n",
    "You can extract portions of the list using slicing."
   ]
  },
  {
   "cell_type": "code",
   "execution_count": null,
   "id": "42c31b81-a17a-41dd-95d3-c349f04c499f",
   "metadata": {},
   "outputs": [],
   "source": []
  },
  {
   "cell_type": "code",
   "execution_count": null,
   "id": "e483e863-2761-4a4c-8b1b-538ae54c6ce7",
   "metadata": {},
   "outputs": [],
   "source": []
  },
  {
   "cell_type": "code",
   "execution_count": null,
   "id": "cd22cc5e-b361-428a-adf9-a74e1ad4b087",
   "metadata": {},
   "outputs": [],
   "source": []
  },
  {
   "cell_type": "markdown",
   "id": "dc05f19d-13b1-4113-962b-3b80343f872b",
   "metadata": {},
   "source": [
    "## Array"
   ]
  },
  {
   "cell_type": "markdown",
   "id": "8229a271-6bf8-41d7-8a4c-4faea5f1e2ee",
   "metadata": {},
   "source": [
    "If you need an `array` that can only hold one type of element (like integers or floats), Python’s `array` module can be used.\n",
    "\n",
    "Importing the `array` Module:"
   ]
  },
  {
   "cell_type": "code",
   "execution_count": null,
   "id": "a4648091-8430-4d0a-8a3b-7b80dda4f4a6",
   "metadata": {},
   "outputs": [],
   "source": []
  },
  {
   "cell_type": "markdown",
   "id": "77733de1-71f3-4de2-b9dc-80aa968cc5e3",
   "metadata": {},
   "source": [
    "`i` stands for \"integer\", which defines the type of elements the array will hold. Other types include `f` for floats."
   ]
  },
  {
   "cell_type": "code",
   "execution_count": null,
   "id": "5c8e659e-9b27-4024-ba32-0e86e6812618",
   "metadata": {},
   "outputs": [],
   "source": []
  },
  {
   "cell_type": "markdown",
   "id": "cd797434-f424-4d63-b5e6-d792191a61f2",
   "metadata": {},
   "source": [
    "### Accessing Elements:"
   ]
  },
  {
   "cell_type": "code",
   "execution_count": null,
   "id": "59325bb8-62b2-4f50-9cb1-5f9cf5ac5c54",
   "metadata": {},
   "outputs": [],
   "source": []
  },
  {
   "cell_type": "markdown",
   "id": "e8647559-3ee5-454f-a1bc-3e9403effbfc",
   "metadata": {},
   "source": [
    "### Adding and Removing Elements:"
   ]
  },
  {
   "cell_type": "code",
   "execution_count": null,
   "id": "83a7081b-0826-4425-8939-836534c86b18",
   "metadata": {},
   "outputs": [],
   "source": []
  },
  {
   "cell_type": "markdown",
   "id": "277cafd5-0253-4c8d-a547-695e8a61e797",
   "metadata": {},
   "source": [
    "# Python Libraries"
   ]
  },
  {
   "cell_type": "markdown",
   "id": "bc29bef6-3e4e-4359-8680-419aed98fed4",
   "metadata": {},
   "source": [
    "Libraries in Python are essential because they provide pre-built code that simplifies complex tasks. Instead of writing everything from scratch, you can use libraries to access ready-made functions and modules for tasks like data manipulation (e.g., `pandas`), numerical computation (e.g., numpy`), web development (e.g., `flask`), or machine learning (e.g., `scikit-learn`). This saves time, reduces errors, and allows you to focus on building solutions rather than reinventing common functionality."
   ]
  },
  {
   "cell_type": "markdown",
   "id": "656c0c3f-8cf7-4e16-99f1-7dd9cdfa4fb9",
   "metadata": {},
   "source": [
    "## Numpy"
   ]
  },
  {
   "cell_type": "markdown",
   "id": "0097753d-9cae-4967-9a8e-a61a88d39f15",
   "metadata": {},
   "source": [
    "`NumPy` (Numerical Python) is a powerful library in Python used for numerical computations. It provides support for arrays, matrices, and many mathematical functions, making it essential for data science, machine learning, and scientific computing.\n",
    "\n",
    "In this lab, we'll go over the basics of `NumPy`, including array creation, indexing, and common operations."
   ]
  },
  {
   "cell_type": "markdown",
   "id": "8b5a4f1e-37e6-400c-b20f-9853020c14a9",
   "metadata": {},
   "source": [
    "First,  we `import` it into our Python environment:"
   ]
  },
  {
   "cell_type": "code",
   "execution_count": null,
   "id": "df47fe3d-136d-4153-ad7b-07543ef8704e",
   "metadata": {},
   "outputs": [],
   "source": []
  },
  {
   "cell_type": "markdown",
   "id": "8c7b41ee-bef4-4357-8413-a4d6c5c20d92",
   "metadata": {},
   "source": [
    "### Creating Arrays"
   ]
  },
  {
   "cell_type": "markdown",
   "id": "0057437d-3327-402f-8996-c86b6c76ac97",
   "metadata": {},
   "source": [
    "The core object in `NumPy` is the `array`, which is a grid of values, all of the same type. You can create arrays in several ways:\n",
    "\n",
    "Creating Arrays from Lists:"
   ]
  },
  {
   "cell_type": "code",
   "execution_count": null,
   "id": "a9439032-cf84-4d69-b6a8-92c6508b29d3",
   "metadata": {},
   "outputs": [],
   "source": []
  },
  {
   "cell_type": "markdown",
   "id": "4519033e-7890-4ff5-a2ce-d4cc0cd39424",
   "metadata": {},
   "source": [
    "### Creating Arrays with zeros, ones, and empty:"
   ]
  },
  {
   "cell_type": "code",
   "execution_count": null,
   "id": "5909c3d4-3708-4c85-b628-fa7486158617",
   "metadata": {},
   "outputs": [],
   "source": []
  },
  {
   "cell_type": "code",
   "execution_count": null,
   "id": "0ca22d85-648c-447c-94eb-aa9edb5f0543",
   "metadata": {},
   "outputs": [],
   "source": []
  },
  {
   "cell_type": "code",
   "execution_count": null,
   "id": "aa379675-5851-4336-b2df-44af6f2cca8b",
   "metadata": {},
   "outputs": [],
   "source": []
  },
  {
   "cell_type": "markdown",
   "id": "4dfafd1c-3fa7-4c18-8dd9-dfaa87340f48",
   "metadata": {},
   "source": [
    "### Creating Arrays with arange and linspace:\n",
    "`arange(start, stop, step)`: Creates an array with a range of values.\n",
    "`linspace(start, stop, num)`: Creates an array with equally spaced values between the start and stop points."
   ]
  },
  {
   "cell_type": "code",
   "execution_count": null,
   "id": "427c097a-8150-47a1-97cc-8619c8decebd",
   "metadata": {},
   "outputs": [],
   "source": []
  },
  {
   "cell_type": "code",
   "execution_count": null,
   "id": "0ddd8891-6067-4664-8198-4725cd7e983d",
   "metadata": {},
   "outputs": [],
   "source": []
  },
  {
   "cell_type": "markdown",
   "id": "3a21e683-dfe6-449d-960d-2fbc921e53be",
   "metadata": {},
   "source": [
    "### Multi-Dimensional Arrays:\n",
    "You can create 2D or even multi-dimensional arrays using `NumPy`.\n",
    "\n",
    "Example of creating a 2D array (matrix)"
   ]
  },
  {
   "cell_type": "code",
   "execution_count": null,
   "id": "31fab70d-3ed9-4776-a498-6dbbd5fef68c",
   "metadata": {},
   "outputs": [],
   "source": []
  },
  {
   "cell_type": "markdown",
   "id": "c5c718a8-2dab-482b-a942-9f068fff9143",
   "metadata": {},
   "source": [
    "Example of creating an array (matrix) of zeros with 3 columns and 5 rows."
   ]
  },
  {
   "cell_type": "code",
   "execution_count": null,
   "id": "cec101b5-15c2-426c-b969-ecedbc19d3a1",
   "metadata": {},
   "outputs": [],
   "source": []
  },
  {
   "cell_type": "markdown",
   "id": "dbe56983-f0c2-4019-a66a-2d56bdfe98c1",
   "metadata": {},
   "source": [
    "### Array Attributes\n",
    "Once you have an array, you can access information about its shape, size, and data type."
   ]
  },
  {
   "cell_type": "markdown",
   "id": "05486cd6-c9a7-474c-ba67-c5340f2e8e49",
   "metadata": {},
   "source": [
    "`shape` returns the shape of the array (rows, columns)"
   ]
  },
  {
   "cell_type": "code",
   "execution_count": null,
   "id": "8d5332d2-063a-4f2d-9c02-f43b25582af9",
   "metadata": {},
   "outputs": [],
   "source": []
  },
  {
   "cell_type": "markdown",
   "id": "e6bf7c71-e55c-407f-ae71-cc3eb968aa98",
   "metadata": {},
   "source": [
    "`ndim` returns number of dimensions (2D in this case)"
   ]
  },
  {
   "cell_type": "code",
   "execution_count": null,
   "id": "44bbaba2-f23d-4000-818c-ef588fe6f23b",
   "metadata": {},
   "outputs": [],
   "source": []
  },
  {
   "cell_type": "markdown",
   "id": "e98a8e14-9162-4f2f-8755-1f6a3be76787",
   "metadata": {},
   "source": [
    "`size` returns the total number of elements"
   ]
  },
  {
   "cell_type": "code",
   "execution_count": null,
   "id": "7ecb212d-19a3-4a2b-8f1d-8665992d8122",
   "metadata": {},
   "outputs": [],
   "source": []
  },
  {
   "cell_type": "markdown",
   "id": "d647a951-1946-456c-84f0-ff782645813f",
   "metadata": {},
   "source": [
    "`dtype` returns the data type of the array elements"
   ]
  },
  {
   "cell_type": "code",
   "execution_count": null,
   "id": "d69f2538-298d-4042-8a25-af8d036d8661",
   "metadata": {},
   "outputs": [],
   "source": []
  },
  {
   "cell_type": "markdown",
   "id": "38de00d8-d2ba-404b-89af-c1cb2ee30137",
   "metadata": {},
   "source": [
    "### Indexing and Slicing Arrays\n",
    "`NumPy` arrays can be indexed just like lists in Python, and they support multi-dimensional indexing and slicing."
   ]
  },
  {
   "cell_type": "markdown",
   "id": "7e125f47-cc65-4856-ae7a-95b4cecfb9fd",
   "metadata": {},
   "source": [
    "Accessing a single element"
   ]
  },
  {
   "cell_type": "code",
   "execution_count": null,
   "id": "901affa5-dcee-47d9-bf29-af0fe1a3a5fb",
   "metadata": {},
   "outputs": [],
   "source": []
  },
  {
   "cell_type": "code",
   "execution_count": null,
   "id": "239fb079-fda1-414c-9642-7b8d816c2235",
   "metadata": {},
   "outputs": [],
   "source": []
  },
  {
   "cell_type": "markdown",
   "id": "d4e7ddd9-1582-4090-ae5d-505c47ed35ab",
   "metadata": {},
   "source": [
    "Slicing a 2D array"
   ]
  },
  {
   "cell_type": "code",
   "execution_count": null,
   "id": "50e88a54-ef91-4afe-a2a3-ba76d67c815a",
   "metadata": {},
   "outputs": [],
   "source": []
  },
  {
   "cell_type": "code",
   "execution_count": null,
   "id": "e1f1ba1f-8fb7-4577-a8cb-4d1997c88c48",
   "metadata": {},
   "outputs": [],
   "source": []
  },
  {
   "cell_type": "markdown",
   "id": "1e940b5b-f2aa-406f-bda6-3975a841c2ad",
   "metadata": {},
   "source": [
    "### Array Operations\n",
    "`NumPy` makes it easy to perform element-wise operations on arrays.\n",
    "\n",
    "Arithmetic Operations:"
   ]
  },
  {
   "cell_type": "code",
   "execution_count": null,
   "id": "12491ff4-947a-49fa-a7e1-00a9bcf20d3c",
   "metadata": {},
   "outputs": [],
   "source": []
  },
  {
   "cell_type": "code",
   "execution_count": null,
   "id": "97c837ac-a1a8-4fe7-a541-ec44f3200f09",
   "metadata": {},
   "outputs": [],
   "source": []
  },
  {
   "cell_type": "markdown",
   "id": "cb8b874c-0c6b-44a6-9c00-c2d4361059a9",
   "metadata": {},
   "source": [
    "### Array Operations Between Arrays:"
   ]
  },
  {
   "cell_type": "code",
   "execution_count": null,
   "id": "f5d56b9b-3bba-4ebe-9ab9-6b9a1680cd89",
   "metadata": {},
   "outputs": [],
   "source": []
  },
  {
   "cell_type": "markdown",
   "id": "608176d5-3800-4e89-8991-ef2e8dd94eac",
   "metadata": {},
   "source": [
    "### Mathematical Functions:\n",
    "`NumPy` provides a variety of built-in mathematical functions like sin, cos, exp, etc."
   ]
  },
  {
   "cell_type": "code",
   "execution_count": null,
   "id": "cf6d059f-c189-414b-8800-6e2635d8bd7c",
   "metadata": {},
   "outputs": [],
   "source": []
  },
  {
   "cell_type": "markdown",
   "id": "56ecc355-311d-4b51-8ead-3ba25e657193",
   "metadata": {},
   "source": [
    "### Reshaping Arrays\n",
    "You can change the shape of arrays using the `reshape()` method."
   ]
  },
  {
   "cell_type": "code",
   "execution_count": null,
   "id": "9d632a9c-e7cf-45b3-911e-adbea935bc88",
   "metadata": {},
   "outputs": [],
   "source": []
  },
  {
   "cell_type": "code",
   "execution_count": null,
   "id": "98a71f6c-3cf7-428e-b48f-511772ceb3ec",
   "metadata": {},
   "outputs": [],
   "source": []
  },
  {
   "cell_type": "markdown",
   "id": "ec547bb8-e9c8-402b-b44d-7a6fbbd2e1bf",
   "metadata": {},
   "source": [
    "### Joining and Splitting Arrays\n",
    "You can join or concatenate arrays, as well as split them.\n",
    "\n",
    "Concatenating Arrays:"
   ]
  },
  {
   "cell_type": "code",
   "execution_count": null,
   "id": "59b88854-5213-4b78-b749-64ae526747d9",
   "metadata": {},
   "outputs": [],
   "source": []
  },
  {
   "cell_type": "markdown",
   "id": "ec840df4-5c05-42fa-87d5-663df0c559a7",
   "metadata": {},
   "source": [
    "Splitting Arrays:"
   ]
  },
  {
   "cell_type": "code",
   "execution_count": null,
   "id": "e2336a55-4556-4c13-96b5-226a37ca9d5e",
   "metadata": {},
   "outputs": [],
   "source": []
  },
  {
   "cell_type": "markdown",
   "id": "87910f80-75c8-4ea6-88f5-45fbb498dd50",
   "metadata": {},
   "source": [
    "### Broadcasting in NumPy\n",
    "Broadcasting is a powerful feature in `NumPy` that allows you to perform arithmetic operations on arrays of different shapes."
   ]
  },
  {
   "cell_type": "code",
   "execution_count": null,
   "id": "cfdf5283-cb6e-4441-8794-be78455d739a",
   "metadata": {},
   "outputs": [],
   "source": []
  },
  {
   "cell_type": "markdown",
   "id": "e65ca23b-a1b9-4762-a89d-bd2e84a3a3be",
   "metadata": {},
   "source": [
    "### Random Numbers with NumPy\n",
    "`NumPy` provides a `random` module to generate random numbers."
   ]
  },
  {
   "cell_type": "markdown",
   "id": "bbdd4918-b0df-404b-9ba3-9e1c1ff39769",
   "metadata": {},
   "source": [
    "Example of randomly generating an array of random numbers between 0 and 1"
   ]
  },
  {
   "cell_type": "code",
   "execution_count": null,
   "id": "a11c1a42-4b04-4a9d-8033-02f887f01e4c",
   "metadata": {},
   "outputs": [],
   "source": []
  },
  {
   "cell_type": "markdown",
   "id": "ef583af2-2be1-454f-9f67-05e1aaf0c3bb",
   "metadata": {},
   "source": [
    "Example of randomly generating a 5-element array of integers between 1 and 5"
   ]
  },
  {
   "cell_type": "code",
   "execution_count": null,
   "id": "8228e4ef-eaf3-4d66-b8e8-af96d2feb308",
   "metadata": {},
   "outputs": [],
   "source": []
  },
  {
   "cell_type": "markdown",
   "id": "4921aa35-7aaf-4eb2-b7f5-791a42186dc7",
   "metadata": {},
   "source": [
    "### Aggregating Data\n",
    "NumPy provides convenient functions for aggregating data, such as `sum`, `mean`, `max`, and `min`."
   ]
  },
  {
   "cell_type": "code",
   "execution_count": null,
   "id": "9ad4697d-dd34-4607-82f5-69dcfb0ac315",
   "metadata": {},
   "outputs": [],
   "source": []
  },
  {
   "cell_type": "code",
   "execution_count": null,
   "id": "8faeb05c-e523-4fd2-8d48-f997775cf5cb",
   "metadata": {},
   "outputs": [],
   "source": []
  },
  {
   "cell_type": "code",
   "execution_count": null,
   "id": "bb44ed4e-6ef7-4b46-9bb4-f46518971c81",
   "metadata": {},
   "outputs": [],
   "source": []
  },
  {
   "cell_type": "code",
   "execution_count": null,
   "id": "199556bd-4c2a-44b0-a968-4c1a013349d8",
   "metadata": {},
   "outputs": [],
   "source": []
  },
  {
   "cell_type": "code",
   "execution_count": null,
   "id": "bc9205fc-20fb-478a-901c-f7076a3008ed",
   "metadata": {},
   "outputs": [],
   "source": []
  },
  {
   "cell_type": "markdown",
   "id": "923fcdc9-fab1-4417-bb85-d73f00aff777",
   "metadata": {},
   "source": [
    "### Linear Algebra with NumPy\n",
    "NumPy also has support for linear algebra operations such as matrix multiplication and solving linear systems.\n",
    "\n",
    "Matrix multiplication:"
   ]
  },
  {
   "cell_type": "code",
   "execution_count": null,
   "id": "37ff1b76-ef19-42c0-8e0f-e0208b8675b1",
   "metadata": {},
   "outputs": [],
   "source": []
  },
  {
   "cell_type": "markdown",
   "id": "6e94b254-dbda-40fc-ae46-2b6518b3d15a",
   "metadata": {},
   "source": [
    "Transpose of  a matrix:"
   ]
  },
  {
   "cell_type": "code",
   "execution_count": null,
   "id": "5cbb02eb-3930-4dd3-b4e1-2b12389f9485",
   "metadata": {},
   "outputs": [],
   "source": []
  },
  {
   "cell_type": "code",
   "execution_count": null,
   "id": "764b5f5f-d678-4ed9-906e-07c2e131d819",
   "metadata": {},
   "outputs": [],
   "source": []
  },
  {
   "cell_type": "markdown",
   "id": "2d754b5d-0889-4849-952e-834f62cebca1",
   "metadata": {},
   "source": [
    "## Pandas"
   ]
  },
  {
   "cell_type": "markdown",
   "id": "ccb9c56b-91d9-4ee4-95a4-7f51dd8cfe3e",
   "metadata": {},
   "source": [
    "Pandas is a powerful Python library used for data manipulation and analysis. It provides data structures like DataFrames and Series that make it easy to work with structured data (e.g., spreadsheets, CSV files, SQL tables) and perform operations such as data cleaning, filtering, and aggregation.\n",
    "\n",
    "In this tutorial, we'll explore the basics of using Pandas, including DataFrames, Series, reading/writing data, and common operations."
   ]
  },
  {
   "cell_type": "markdown",
   "id": "dce14759-3d50-49bd-813f-33ee765cfd66",
   "metadata": {},
   "source": [
    "First,  we `import` `pandas` into our Python environment:"
   ]
  },
  {
   "cell_type": "code",
   "execution_count": null,
   "id": "008167e1-8d81-4e41-94a0-4ae714cc4983",
   "metadata": {},
   "outputs": [],
   "source": []
  },
  {
   "cell_type": "markdown",
   "id": "2ee5c6ea-012c-4d07-93e0-733a0eb347e9",
   "metadata": {},
   "source": [
    "### Pandas Data Structures\n",
    "Pandas primarily uses two data structures:\n",
    "\n",
    "- Series: A one-dimensional labeled array.\n",
    "- DataFrame: A two-dimensional table of data (like a spreadsheet).\n",
    "  \n",
    "### Creating a Series:\n",
    "\n",
    "A Pandas Series is similar to a list or a column in a table."
   ]
  },
  {
   "cell_type": "code",
   "execution_count": null,
   "id": "730420f1-57d8-48e8-9cd0-0e89c0f92bd0",
   "metadata": {},
   "outputs": [],
   "source": []
  },
  {
   "cell_type": "markdown",
   "id": "67bedf1b-316b-42dc-8bcd-6b147d2347bd",
   "metadata": {},
   "source": [
    "### Creating a DataFrame:\n",
    "A Pandas DataFrame is a table with rows and columns. You can create it from dictionaries, lists, or by reading data from files."
   ]
  },
  {
   "cell_type": "code",
   "execution_count": null,
   "id": "abd8c23a-397f-432d-aa17-206f37f451c9",
   "metadata": {},
   "outputs": [],
   "source": []
  },
  {
   "cell_type": "markdown",
   "id": "7ff49499-6286-42bb-a75a-35a592872e25",
   "metadata": {},
   "source": [
    "### Reading Data into a DataFrame\n",
    "Pandas can read data from various file formats such as CSV, Excel, JSON, and SQL databases.\n",
    "\n",
    "Reading from a CSV file:\n",
    "\n",
    "from [NFLsavant.com](https://nflsavant.com/about.php) we use 2024 play-by-play data."
   ]
  },
  {
   "cell_type": "code",
   "execution_count": null,
   "id": "6f8c9395-f554-4e98-99f4-cc295cdaa04b",
   "metadata": {},
   "outputs": [],
   "source": []
  },
  {
   "cell_type": "markdown",
   "id": "56a8ffa8-c067-46d9-88f2-477750cdca68",
   "metadata": {},
   "source": [
    "Reading from an Excel file:\n",
    "\n",
    "from [NYSERDA](www.nyserda.ny.gov) we use [Electric Vehicle (EV) and EV Charging Station Data](https://www.nyserda.ny.gov/All-Programs/Drive-Clean-Rebate-For-Electric-Cars-Program/About-Electric-Cars/Data-on-Electric-Vehicles-and-Charging-Stations)."
   ]
  },
  {
   "cell_type": "code",
   "execution_count": null,
   "id": "f50dfe0f-42b9-446d-ad8d-e54eeb605cc5",
   "metadata": {},
   "outputs": [],
   "source": []
  },
  {
   "cell_type": "markdown",
   "id": "f9dbd4ed-eff2-4bd1-b9e9-e7ef084609c4",
   "metadata": {},
   "source": [
    "### Writing Data to Files\n",
    "Pandas allows you to easily export your DataFrame to various file formats.\n",
    "\n",
    "Writing to a CSV file:"
   ]
  },
  {
   "cell_type": "code",
   "execution_count": null,
   "id": "a5eccc6f-6be8-43ba-89c1-9fb9124f7dae",
   "metadata": {},
   "outputs": [],
   "source": []
  },
  {
   "cell_type": "code",
   "execution_count": null,
   "id": "894e5fd2-2c14-4287-9ca2-cf63e3a9b3c4",
   "metadata": {},
   "outputs": [],
   "source": []
  },
  {
   "cell_type": "markdown",
   "id": "31d37bce-ea5d-49be-92f7-9b2d9a2528b1",
   "metadata": {},
   "source": [
    "### Inspecting Data\n",
    "Pandas offers several methods to quickly understand the structure and content of your DataFrame.\n",
    "\n",
    "Viewing the Data:"
   ]
  },
  {
   "cell_type": "code",
   "execution_count": null,
   "id": "ddb1bd34-3ae0-44cd-9d6a-919abd37f171",
   "metadata": {},
   "outputs": [],
   "source": []
  },
  {
   "cell_type": "markdown",
   "id": "43086d69-f927-4287-b18e-52d62ea11073",
   "metadata": {},
   "source": [
    "Getting Column Names:"
   ]
  },
  {
   "cell_type": "code",
   "execution_count": null,
   "id": "62522618-1acf-46bc-8844-34d2a6fa9dd3",
   "metadata": {},
   "outputs": [],
   "source": []
  },
  {
   "cell_type": "markdown",
   "id": "4a318233-9d56-4ea0-805d-457da40b06f1",
   "metadata": {},
   "source": [
    "Summary Statistics:"
   ]
  },
  {
   "cell_type": "code",
   "execution_count": null,
   "id": "5eacc722-e7bf-4945-9fe7-9d9aa6eab134",
   "metadata": {},
   "outputs": [],
   "source": []
  },
  {
   "cell_type": "markdown",
   "id": "a73512e9-548d-4661-82c9-464a6cf164bc",
   "metadata": {},
   "source": [
    "### Selecting Data from a DataFrame\n",
    "You can select specific rows and columns from a DataFrame in various ways.\n",
    "\n",
    "Selecting Columns:"
   ]
  },
  {
   "cell_type": "code",
   "execution_count": null,
   "id": "12864015-76bb-4eb7-82b9-be8ce1717d8d",
   "metadata": {},
   "outputs": [],
   "source": []
  },
  {
   "cell_type": "markdown",
   "id": "839f61fd-31d0-41b6-9f22-28842558da64",
   "metadata": {},
   "source": [
    "Selecting Rows:\n",
    "\n",
    "You can use `.iloc[]` for positional indexing and `.loc[]` for label-based indexing."
   ]
  },
  {
   "cell_type": "code",
   "execution_count": null,
   "id": "32f46fe5-b84d-4a41-b00f-2d9fb5420f3c",
   "metadata": {},
   "outputs": [],
   "source": []
  },
  {
   "cell_type": "markdown",
   "id": "3cb0a03b-3853-48b5-9b97-433ee30e48e2",
   "metadata": {},
   "source": [
    "Filtering Rows:\n",
    "\n",
    "You can filter rows based on conditions."
   ]
  },
  {
   "cell_type": "code",
   "execution_count": null,
   "id": "02cf7d81-e8fd-4cbc-8cc0-49420efb29fe",
   "metadata": {},
   "outputs": [],
   "source": []
  },
  {
   "cell_type": "markdown",
   "id": "7cb9c5fa-6a2d-4ca1-aa37-7b2dbc39cd7f",
   "metadata": {},
   "source": [
    "### Data Cleaning\n",
    "Pandas makes it easy to clean and handle missing or incorrect data.\n",
    "\n",
    "Handling Missing Data:\n",
    "You can handle missing data (NaN values) using the `dropna()` and `fillna()` methods."
   ]
  },
  {
   "cell_type": "code",
   "execution_count": null,
   "id": "28e77bc1-16e8-4881-8919-52b42f73e6db",
   "metadata": {},
   "outputs": [],
   "source": []
  },
  {
   "cell_type": "markdown",
   "id": "f5b2f1df-661c-4e52-8778-44f8e853050b",
   "metadata": {},
   "source": [
    "Renaming Columns:"
   ]
  },
  {
   "cell_type": "code",
   "execution_count": null,
   "id": "5f872e43-7f67-45a5-954c-3289ba2ae662",
   "metadata": {},
   "outputs": [],
   "source": []
  },
  {
   "cell_type": "markdown",
   "id": "5b94a819-bdeb-4665-9e4e-46a1592f38d8",
   "metadata": {},
   "source": [
    "Removing Duplicates:"
   ]
  },
  {
   "cell_type": "code",
   "execution_count": null,
   "id": "13e55370-23d0-4583-ac7f-66307e377ec9",
   "metadata": {},
   "outputs": [],
   "source": []
  },
  {
   "cell_type": "markdown",
   "id": "5d5c8c11-f7bc-4c85-a20a-77d7856842f4",
   "metadata": {},
   "source": [
    "### Modifying Data\n",
    "You can add, update, or delete columns in a DataFrame.\n",
    "\n",
    "Adding a New Column:"
   ]
  },
  {
   "cell_type": "code",
   "execution_count": null,
   "id": "b9f05f4b-f459-4dec-85ba-5b3b3394add1",
   "metadata": {},
   "outputs": [],
   "source": []
  },
  {
   "cell_type": "markdown",
   "id": "ff12f512-5a48-47f0-b91c-62eb077ab351",
   "metadata": {},
   "source": [
    "Updating Column Values:"
   ]
  },
  {
   "cell_type": "code",
   "execution_count": null,
   "id": "addd13c4-b5d9-430e-9e37-0b304be84b54",
   "metadata": {},
   "outputs": [],
   "source": []
  },
  {
   "cell_type": "markdown",
   "id": "e32e226e-cd7f-4fa6-a440-9f85e02235e5",
   "metadata": {},
   "source": [
    "Deleting a Column:"
   ]
  },
  {
   "cell_type": "code",
   "execution_count": null,
   "id": "d448f249-7e1e-427e-9dfe-bcd4a55f9080",
   "metadata": {},
   "outputs": [],
   "source": []
  },
  {
   "cell_type": "markdown",
   "id": "8e51e344-dc49-40fe-8504-5cadb9590b26",
   "metadata": {},
   "source": [
    "### GroupBy and Aggregation\n",
    "\n",
    "The `groupby()` function is used to group data based on a column, and you can apply aggregate functions like `sum()`, `mean()`, etc."
   ]
  },
  {
   "cell_type": "code",
   "execution_count": null,
   "id": "14ba9e61-12b8-4537-b343-3827d01c55fb",
   "metadata": {},
   "outputs": [],
   "source": []
  },
  {
   "cell_type": "markdown",
   "id": "2486370c-673d-4df0-b656-294ad1e2efef",
   "metadata": {},
   "source": [
    "Aggregating Multiple Columns:"
   ]
  },
  {
   "cell_type": "code",
   "execution_count": null,
   "id": "178fd609-f24a-4863-a35c-026ee420e2fd",
   "metadata": {},
   "outputs": [],
   "source": []
  },
  {
   "cell_type": "markdown",
   "id": "6f593e4a-1465-424c-afb8-4a2842092d30",
   "metadata": {},
   "source": [
    "### Merging and Joining DataFrames\n",
    "Pandas allows you to merge or join DataFrames, similar to SQL joins.\n",
    "\n",
    "Merging DataFrames:"
   ]
  },
  {
   "cell_type": "code",
   "execution_count": null,
   "id": "e60d9ab1-d68f-423b-a110-462cb1c27fae",
   "metadata": {},
   "outputs": [],
   "source": []
  },
  {
   "cell_type": "markdown",
   "id": "c8d0ed16-af90-412d-8ac3-8b48485f4c32",
   "metadata": {},
   "source": [
    "### Pivot Tables\n",
    "Pandas allows you to create pivot tables for summarizing and analyzing data."
   ]
  },
  {
   "cell_type": "code",
   "execution_count": null,
   "id": "e89853ac-8a35-4986-8e70-21da6fedab3e",
   "metadata": {},
   "outputs": [],
   "source": []
  },
  {
   "cell_type": "markdown",
   "id": "9030d220-1180-4301-ba3d-5ae30801ee83",
   "metadata": {},
   "source": [
    "## Visualizations\n",
    "In Python, the most commonly used library for creating visualizations is `matplotlib`. However, since Python wasn't initially designed with data analysis in mind, plotting functionality is not a built-in feature of the language. Instead, we use the `subplots()` function from the `matplotlib.pyplot` module to generate figures and axes for our plots.\n",
    "\n",
    "If you're interested in exploring more examples of how to create various types of plots using Python, you can visit the official gallery at [matplotlib.org/stable/gallery/](https://matplotlib.org/stable/gallery/index.html).\n",
    "\n",
    "In `matplotlib`, every plot is composed of two key elements: the figure and the axes. The figure can be seen as the overall space or canvas where one or more plots are drawn. The axes are where the actual data is plotted, and they contain additional elements like the labels for the x- and y-axes, the title, and other related information. Keep in mind that in `matplotlib`, axes refers to more than just the x- and y-axes; it encapsulates all components necessary for the plot.\n",
    "\n",
    "To get started, we first import the `subplots()` function from `matplotlib.pyplot`, which we'll frequently use for creating plots. This function returns two objects: the first is the figure, and the second is the axes onto which we can plot our data. We typically specify the figure size using the `figsize` argument. Once the axes are created, we can begin plotting by using the `plot()` method. For more information about this method, you can type `ax.plot`? to learn how it works in more detail."
   ]
  },
  {
   "cell_type": "code",
   "execution_count": null,
   "id": "33e3aab7-0015-431d-bde7-e38ce1337afa",
   "metadata": {},
   "outputs": [],
   "source": []
  },
  {
   "cell_type": "code",
   "execution_count": null,
   "id": "6b15e82a-1416-4e20-9262-12ae25971693",
   "metadata": {},
   "outputs": [],
   "source": []
  },
  {
   "cell_type": "code",
   "execution_count": null,
   "id": "124eb676-aedc-49c8-88f2-1963b3fb9e5c",
   "metadata": {},
   "outputs": [],
   "source": []
  },
  {
   "cell_type": "code",
   "execution_count": null,
   "id": "055bd3e5-27aa-4745-80a8-53067d020242",
   "metadata": {},
   "outputs": [],
   "source": []
  },
  {
   "cell_type": "code",
   "execution_count": null,
   "id": "e1721c29-00d3-43c7-9198-b581467e7ecc",
   "metadata": {},
   "outputs": [],
   "source": []
  },
  {
   "cell_type": "code",
   "execution_count": null,
   "id": "7a6eaa84-c83a-435b-8367-bd788934ed38",
   "metadata": {},
   "outputs": [],
   "source": []
  },
  {
   "cell_type": "code",
   "execution_count": null,
   "id": "68a1d031-e625-405c-98a8-98f86918e4fa",
   "metadata": {},
   "outputs": [],
   "source": []
  },
  {
   "cell_type": "code",
   "execution_count": null,
   "id": "c8b6810c-0829-4247-b504-5bfd5f5e994a",
   "metadata": {},
   "outputs": [],
   "source": []
  },
  {
   "cell_type": "code",
   "execution_count": null,
   "id": "4b4b6718-20c9-4491-930c-b05293ddfcc7",
   "metadata": {},
   "outputs": [],
   "source": []
  },
  {
   "cell_type": "code",
   "execution_count": null,
   "id": "77a0b241-39b4-4549-808b-c5e35ca3ba39",
   "metadata": {},
   "outputs": [],
   "source": []
  },
  {
   "cell_type": "code",
   "execution_count": null,
   "id": "1e5d9ab1-66b4-4a7a-b3f4-b02e55ad87c4",
   "metadata": {},
   "outputs": [],
   "source": []
  },
  {
   "cell_type": "code",
   "execution_count": null,
   "id": "87abd9e7-098d-4bb5-b60b-42094cb12632",
   "metadata": {},
   "outputs": [],
   "source": []
  },
  {
   "cell_type": "markdown",
   "id": "344cb042-571f-493f-a3cf-38066bf28b27",
   "metadata": {},
   "source": [
    "## Loops\n",
    "\n",
    "Python supports loops to repeat a block of code multiple times. The most common types of loops are `for` loops and `while` loops."
   ]
  },
  {
   "cell_type": "markdown",
   "id": "2d68967c-97e2-4a7c-9aaa-2428b8e1c0be",
   "metadata": {},
   "source": [
    "### For loop"
   ]
  },
  {
   "cell_type": "markdown",
   "id": "7ce38161-1e0f-40d8-8662-7bc543bcd9fc",
   "metadata": {},
   "source": [
    "A `for` loop in Python is used to iterate over a sequence (like a list, tuple, string, or range) and execute a block of code for each item in that sequence. The key components of a `for` loop are:\n",
    "\n",
    "1. `for` Keyword:\n",
    "This keyword starts the loop and tells Python that you are about to iterate over a sequence.\n",
    "\n",
    "2. Loop Variable:\n",
    "The variable that takes each value in the sequence, one at a time. This is also known as the iterator, e.g., `i`.\n",
    "\n",
    "3. `in` Keyword:\n",
    "This keyword specifies the sequence you want to loop over.\n",
    "\n",
    "4. Sequence/Iterable:\n",
    "The collection of items you are iterating over, such as a list, range, tuple, or string.\n",
    "\n",
    "5. Colon (`:`):\n",
    "The colon indicates the start of the code block that will be executed on each iteration of the loop.\n",
    "\n",
    "6. Loop Body/Block:\n",
    "The indented code block that gets executed for each item in the sequence.\n",
    "\n",
    "Example of `for` loop with a `range`:"
   ]
  },
  {
   "cell_type": "code",
   "execution_count": null,
   "id": "510b4940-6091-4172-9907-1033ff47faea",
   "metadata": {},
   "outputs": [],
   "source": []
  },
  {
   "cell_type": "markdown",
   "id": "8f8dfe6d-3c2a-4640-a5e7-495e221595fc",
   "metadata": {},
   "source": [
    "### While loop"
   ]
  },
  {
   "cell_type": "markdown",
   "id": "a071b852-c223-450a-ba11-6996459e2ab7",
   "metadata": {},
   "source": [
    "A `while` loop in Python repeatedly executes a block of code as long as a given condition remains `True`. Here are the key components of a `while` loop:\n",
    "\n",
    "1. `while` Keyword:\n",
    "This starts the loop and indicates that the block of code should keep running as long as the condition is `True`.\n",
    "\n",
    "2. Condition:\n",
    "The expression that is evaluated before each iteration. If the condition is `True`, the loop continues; if `False`, the loop stops.\n",
    "\n",
    "3. Colon (`:`):\n",
    "This marks the beginning of the loop body.\n",
    "\n",
    "4. Loop Body:\n",
    "The block of code (indented) that will be executed repeatedly as long as the condition is true.\n",
    "\n",
    "5. Update or Change:\n",
    "(Optional) The loop body typically includes a way to eventually make the condition false, so the loop can stop. This is important to prevent infinite loops.\n",
    "\n",
    "Example of a `while` loop:"
   ]
  },
  {
   "cell_type": "code",
   "execution_count": null,
   "id": "ad9ccdb8-05c0-408c-af88-53caa6c2a55e",
   "metadata": {},
   "outputs": [],
   "source": []
  },
  {
   "cell_type": "markdown",
   "id": "45515979-b7a3-4879-bd35-9c53ba94ebf4",
   "metadata": {},
   "source": [
    "## Conditionals\n",
    "\n",
    "Python uses `if`, `elif`, and `else` statements to make decisions in your code."
   ]
  },
  {
   "cell_type": "code",
   "execution_count": null,
   "id": "0607a55b-5e5f-4352-82fc-cd003e9d3ff9",
   "metadata": {},
   "outputs": [],
   "source": []
  }
 ],
 "metadata": {
  "jupytext": {
   "cell_metadata_filter": "-all",
   "main_language": "python",
   "notebook_metadata_filter": "-all"
  },
  "kernelspec": {
   "display_name": "Python 3 (ipykernel)",
   "language": "python",
   "name": "python3"
  },
  "language_info": {
   "codemirror_mode": {
    "name": "ipython",
    "version": 3
   },
   "file_extension": ".py",
   "mimetype": "text/x-python",
   "name": "python",
   "nbconvert_exporter": "python",
   "pygments_lexer": "ipython3",
   "version": "3.12.3"
  }
 },
 "nbformat": 4,
 "nbformat_minor": 5
}
